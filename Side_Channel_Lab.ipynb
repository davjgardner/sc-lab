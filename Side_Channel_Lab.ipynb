{
 "cells": [
  {
   "cell_type": "markdown",
   "metadata": {},
   "source": [
    "# Side-Channel Workshop\n",
    "\n",
    "## Prologue"
   ]
  },
  {
   "cell_type": "code",
   "execution_count": 1,
   "metadata": {},
   "outputs": [],
   "source": [
    "from network_captures import *"
   ]
  },
  {
   "cell_type": "markdown",
   "metadata": {},
   "source": [
    "## Step 1: Create Client\n",
    "First, we need to create the client. You can create one of two clients, each with a different difficulty."
   ]
  },
  {
   "cell_type": "code",
   "execution_count": 2,
   "metadata": {},
   "outputs": [],
   "source": [
    "# basic difficulty (large trigger signal, 4-digit numeric)\n",
    "dc = DataClient()\n",
    "\n",
    "# basic difficulty (no trigger signal, 4-digit numeric)\n",
    "# dc = DataClient(path=DataClient.MED_PATH)\n",
    "\n",
    "# advanced difficulty (no trigger signal, any 4-digit value)\n",
    "# dc = DataClient(path=DataClient.ADV_PATH, seed='changeme')"
   ]
  },
  {
   "cell_type": "markdown",
   "metadata": {},
   "source": [
    "## Step 2: Fetch trace\n",
    "Next, we need to use the client to fetch a trace from the server using a password guess"
   ]
  },
  {
   "cell_type": "code",
   "execution_count": 3,
   "metadata": {},
   "outputs": [],
   "source": [
    "trace = dc.fetch('0000')\n",
    "\n",
    "# advanced binary input\n",
    "# trace = dc.fetch([b'\\x01\\x02\\03\\x04'])"
   ]
  },
  {
   "cell_type": "markdown",
   "metadata": {},
   "source": [
    "## Step 3: Plot trace\n",
    "Once we have the trace, we can then plot it. Here, you can see the effect of different levels of smoothing"
   ]
  },
  {
   "cell_type": "code",
   "execution_count": 4,
   "metadata": {},
   "outputs": [
    {
     "data": {
      "application/vnd.jupyter.widget-view+json": {
       "model_id": "d98985ac10b8475997f87f77994bcfc1",
       "version_major": 2,
       "version_minor": 0
      },
      "text/plain": [
       "Canvas(toolbar=Toolbar(toolitems=[('Home', 'Reset original view', 'home', 'home'), ('Back', 'Back to previous …"
      ]
     },
     "metadata": {},
     "output_type": "display_data"
    }
   ],
   "source": [
    "%matplotlib widget\n",
    "plot_helper(trace, 1)\n",
    "plot_helper(trace, 10)\n",
    "plot_helper(trace, 100)"
   ]
  },
  {
   "cell_type": "markdown",
   "metadata": {},
   "source": [
    "## Your Turn!\n",
    "Now, using these steps, see if you can crack the password!"
   ]
  },
  {
   "cell_type": "code",
   "execution_count": null,
   "metadata": {},
   "outputs": [],
   "source": []
  }
 ],
 "metadata": {
  "kernelspec": {
   "display_name": "Python 3",
   "language": "python",
   "name": "python3"
  },
  "language_info": {
   "codemirror_mode": {
    "name": "ipython",
    "version": 3
   },
   "file_extension": ".py",
   "mimetype": "text/x-python",
   "name": "python",
   "nbconvert_exporter": "python",
   "pygments_lexer": "ipython3",
   "version": "3.8.5"
  }
 },
 "nbformat": 4,
 "nbformat_minor": 4
}
