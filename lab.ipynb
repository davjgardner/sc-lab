{
 "cells": [
  {
   "cell_type": "markdown",
   "metadata": {},
   "source": [
    "# Side-Channel Workshop\n",
    "In this lab, we will walk through a simple power analysis (SPA) side-channel attack.\n",
    "\n",
    "The provided data client will connect you to an embedded device that accepts 4-digit passwords, compares them to the correct password using the `strcmp` (string compare) function, and returns the result (correct/incorrect) and a power side-channel trace of the device performing the operation.\n",
    "\n",
    "**Your goal: use the power traces to crack the 4-digit password**\n",
    "\n",
    "## Prologue\n",
    "Just run this once to import the network backend"
   ]
  },
  {
   "cell_type": "code",
   "execution_count": null,
   "metadata": {},
   "outputs": [],
   "source": [
    "from lab import *"
   ]
  },
  {
   "cell_type": "markdown",
   "metadata": {},
   "source": [
    "## Step 1: Create Client\n",
    "First, we need to create the client. You can create one of two clients, each with a different difficulty."
   ]
  },
  {
   "cell_type": "code",
   "execution_count": null,
   "metadata": {},
   "outputs": [],
   "source": [
    "# basic difficulty (large trigger signal, 4-digit numeric)\n",
    "dc = DataClient()\n",
    "\n",
    "# basic difficulty (no trigger signal, 4-digit numeric)\n",
    "# dc = DataClient(path=DataClient.MED_PATH)\n",
    "\n",
    "# advanced difficulty (no trigger signal, any 4-digit value)\n",
    "# dc = DataClient(path=DataClient.ADV_PATH, seed='changeme')"
   ]
  },
  {
   "cell_type": "markdown",
   "metadata": {},
   "source": [
    "## Step 2: Fetch trace\n",
    "Next, we need to use the client to fetch a trace from the server using a password guess. Note: your first fetch may take a bit."
   ]
  },
  {
   "cell_type": "code",
   "execution_count": null,
   "metadata": {},
   "outputs": [],
   "source": [
    "trace = dc.fetch('0000')\n",
    "\n",
    "# advanced binary input\n",
    "# trace = dc.fetch([b'\\x01\\x02\\03\\x04'])"
   ]
  },
  {
   "cell_type": "markdown",
   "metadata": {},
   "source": [
    "## Step 3: Plot trace\n",
    "Once we have the trace, we can then plot it. Here, you can see the effect of different levels of smoothing as well as how to stack multiple plots in one view.\n",
    "\n",
    "**NOTE: The `%maplotlib widgit` line is needed for an interactive plot**"
   ]
  },
  {
   "cell_type": "code",
   "execution_count": null,
   "metadata": {},
   "outputs": [],
   "source": [
    "%matplotlib widget\n",
    "plot_trace(trace, 1)\n",
    "plot_trace(trace, 10)\n",
    "plot_trace(trace, 100)"
   ]
  },
  {
   "cell_type": "markdown",
   "metadata": {},
   "source": [
    "We can see that the device running this comparison operation results in a structured trace, where (presumably) different operations result in different amounts of power draw. We will be able to use this structure to infer the correctness of our key guesses by comparing traces of \n",
    "\n",
    "---\n",
    "## Your Turn!\n",
    "Now, using these steps, see if you can crack the password!\n",
    "\n",
    "Please don't just brute-force all 10k possible combinations. That will both bog down the server for your fellow attackers and defeat the purpose of the exercise :)\n",
    "\n",
    "Feel free to add more Python code cells to work with using the `+` button in the upper left."
   ]
  },
  {
   "cell_type": "code",
   "execution_count": null,
   "metadata": {},
   "outputs": [],
   "source": []
  },
  {
   "cell_type": "markdown",
   "metadata": {},
   "source": [
    "---\n",
    "## Finished?\n",
    "If you've finished early or just want a challenge, try some of the following:\n",
    "\n",
    "* Figure out the optimal strategy for guessing passwords (what is the minimum number of guesses to ensure cracking the PIN?)\n",
    "* Try using the advanced data client. The timing-critical section will be harder to spot and the password is 4 bytes of binary input instead of 4 digits"
   ]
  },
  {
   "cell_type": "markdown",
   "metadata": {},
   "source": [
    "---\n",
    "## Need a hint?\n",
    "Run each cell below to reveal another hint\n",
    "\n",
    "**NOTE:** Some details of the clues only apply to the basic difficulty challenge.\n",
    "\n",
    "## Hint 1"
   ]
  },
  {
   "cell_type": "code",
   "execution_count": null,
   "metadata": {},
   "outputs": [],
   "source": [
    "%load hints/hint1.py"
   ]
  },
  {
   "cell_type": "markdown",
   "metadata": {},
   "source": [
    "## Hint 2"
   ]
  },
  {
   "cell_type": "code",
   "execution_count": null,
   "metadata": {},
   "outputs": [],
   "source": [
    "%load hints/hint2.py"
   ]
  },
  {
   "cell_type": "markdown",
   "metadata": {},
   "source": [
    "## Hint 3"
   ]
  },
  {
   "cell_type": "code",
   "execution_count": null,
   "metadata": {},
   "outputs": [],
   "source": [
    "%load hints/hint3.py"
   ]
  },
  {
   "cell_type": "markdown",
   "metadata": {},
   "source": [
    "## Hint 4:"
   ]
  },
  {
   "cell_type": "code",
   "execution_count": null,
   "metadata": {},
   "outputs": [],
   "source": [
    "%load hints/hint4.py"
   ]
  },
  {
   "cell_type": "markdown",
   "metadata": {},
   "source": [
    "## Hint 5"
   ]
  },
  {
   "cell_type": "code",
   "execution_count": null,
   "metadata": {},
   "outputs": [],
   "source": [
    "%load hints/hint5.py"
   ]
  },
  {
   "cell_type": "markdown",
   "metadata": {},
   "source": [
    "## Hint 6"
   ]
  },
  {
   "cell_type": "code",
   "execution_count": null,
   "metadata": {},
   "outputs": [],
   "source": [
    "%load hints/hint6.py"
   ]
  },
  {
   "cell_type": "markdown",
   "metadata": {},
   "source": [
    "## Hint 7"
   ]
  },
  {
   "cell_type": "code",
   "execution_count": null,
   "metadata": {},
   "outputs": [],
   "source": [
    "%load hints/hint7.py"
   ]
  }
 ],
 "metadata": {
  "kernelspec": {
   "display_name": "Python 3",
   "language": "python",
   "name": "python3"
  },
  "language_info": {
   "codemirror_mode": {
    "name": "ipython",
    "version": 3
   },
   "file_extension": ".py",
   "mimetype": "text/x-python",
   "name": "python",
   "nbconvert_exporter": "python",
   "pygments_lexer": "ipython3",
   "version": "3.8.5"
  }
 },
 "nbformat": 4,
 "nbformat_minor": 4
}
